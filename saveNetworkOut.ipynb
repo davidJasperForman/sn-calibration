{
 "cells": [
  {
   "cell_type": "markdown",
   "metadata": {},
   "source": [
    "## This is notebook exploring camera calibration challenge \n",
    " - If you want to use the baseline model provided in the repo, you need to install all the libraries. \n",
    " - I work in conda and created a soccernet environment where I installed the necessary versions of torch, etc. \n",
    " - The notebook mostly follows the baseline code provided in the official repo with some additional graphics the explain what's going on. "
   ]
  },
  {
   "cell_type": "code",
   "execution_count": null,
   "metadata": {},
   "outputs": [],
   "source": []
  },
  {
   "cell_type": "code",
   "execution_count": 2,
   "metadata": {},
   "outputs": [],
   "source": [
    "import copy\n",
    "import json\n",
    "import os.path\n",
    "import random\n",
    "from collections import deque\n",
    "from pathlib import Path\n",
    "\n",
    "import cv2 as cv\n",
    "import glob as glob\n",
    "import numpy as np\n",
    "import torch\n",
    "import torch.backends.cudnn\n",
    "import torch.nn as nn\n",
    "from PIL import Image\n",
    "from torchvision.models.segmentation import deeplabv3_resnet50\n",
    "from tqdm import tqdm\n",
    "\n",
    "from src.soccerpitch import SoccerPitch\n",
    "from src.baseline_extremities import (generate_class_synthesis, join_points, get_line_extremities, get_support_center, synthesize_mask)\n",
    "from src.baseline_extremities import SegmentationNetwork\n",
    "%matplotlib inline\n",
    "from matplotlib import pyplot as plt\n",
    "#The line above is necesary to show Matplotlib's plots inside a Jupyter Notebook"
   ]
  },
  {
   "cell_type": "code",
   "execution_count": 2,
   "metadata": {},
   "outputs": [],
   "source": []
  },
  {
   "cell_type": "code",
   "execution_count": 11,
   "metadata": {},
   "outputs": [],
   "source": [
    "# This is the image segmentation network provided in the repo. \n",
    "calib_net = SegmentationNetwork(\n",
    "    \"resources/soccer_pitch_segmentation.pth\",\n",
    "    \"resources/mean.npy\",\n",
    "    \"resources/std.npy\")"
   ]
  },
  {
   "cell_type": "code",
   "execution_count": 12,
   "metadata": {},
   "outputs": [],
   "source": [
    "dir = \"/Volumes/T7/datasets/Netv3/trackingVid/challenge/SNMOT-094/\"\n",
    "thisVid = dir + \"combined25FPS.mp4\"\n",
    "npPath =  dir + \"original_detections\""
   ]
  },
  {
   "cell_type": "code",
   "execution_count": 27,
   "metadata": {},
   "outputs": [
    {
     "name": "stdout",
     "output_type": "stream",
     "text": [
      "(750, 360, 640)\n"
     ]
    }
   ],
   "source": [
    "# You can choose a different image from the data. I'll use frame_index throughout the whole notebook\n",
    "# frameResults = []\n",
    "# cap = cv.VideoCapture(thisVid)\n",
    "# while True:\n",
    "#     ret, image = cap.read()\n",
    "#     if not ret:\n",
    "#         break\n",
    "#     # This command finds the segmented field lines.\n",
    "#     semlines = calib_net.analyse_image(image)\n",
    "#     # The network returns an image dimension(360, 640), with values from 0..25. Each int value corresponds to the particular field line\n",
    "#     frameResults.append(semlines)\n",
    "#\n",
    "#\n",
    "# toSave = np.stack(frameResults, axis=0)\n",
    "#\n",
    "# np.save(npPath, toSave)\n",
    "# print(toSave.shape)"
   ]
  },
  {
   "cell_type": "code",
   "execution_count": null,
   "outputs": [],
   "source": [],
   "metadata": {
    "collapsed": false,
    "pycharm": {
     "name": "#%%\n"
    }
   }
  },
  {
   "cell_type": "code",
   "execution_count": 26,
   "metadata": {},
   "outputs": [],
   "source": []
  },
  {
   "cell_type": "code",
   "execution_count": 26,
   "outputs": [],
   "source": [],
   "metadata": {
    "collapsed": false,
    "pycharm": {
     "name": "#%%\n"
    }
   }
  },
  {
   "cell_type": "code",
   "execution_count": null,
   "outputs": [],
   "source": [],
   "metadata": {
    "collapsed": false,
    "pycharm": {
     "name": "#%%\n"
    }
   }
  }
 ],
 "metadata": {
  "kernelspec": {
   "display_name": "Python 3 (ipykernel)",
   "language": "python",
   "name": "python3"
  },
  "language_info": {
   "codemirror_mode": {
    "name": "ipython",
    "version": 3
   },
   "file_extension": ".py",
   "mimetype": "text/x-python",
   "name": "python",
   "nbconvert_exporter": "python",
   "pygments_lexer": "ipython3",
   "version": "3.7.12"
  }
 },
 "nbformat": 4,
 "nbformat_minor": 4
}